{
 "cells": [
  {
   "cell_type": "markdown",
   "metadata": {},
   "source": [
    "Generative Adversarial Network Demo\n",
    "==================================="
   ]
  },
  {
   "cell_type": "code",
   "execution_count": null,
   "metadata": {},
   "outputs": [],
   "source": [
    "import gan\n",
    "import matplotlib.pyplot as plt\n",
    "import numpy as np\n",
    "import IPython"
   ]
  },
  {
   "cell_type": "code",
   "execution_count": null,
   "metadata": {},
   "outputs": [],
   "source": [
    "g = gan.GAN()"
   ]
  },
  {
   "cell_type": "code",
   "execution_count": null,
   "metadata": {},
   "outputs": [],
   "source": [
    "for i in range(10):\n",
    "    g.train_generator()"
   ]
  },
  {
   "cell_type": "code",
   "execution_count": null,
   "metadata": {},
   "outputs": [],
   "source": [
    "g.total_training_time"
   ]
  },
  {
   "cell_type": "code",
   "execution_count": null,
   "metadata": {},
   "outputs": [],
   "source": [
    "g.total_training_time"
   ]
  },
  {
   "cell_type": "code",
   "execution_count": null,
   "metadata": {},
   "outputs": [],
   "source": [
    "3.3807 - 2.28177 "
   ]
  },
  {
   "cell_type": "code",
   "execution_count": null,
   "metadata": {},
   "outputs": [],
   "source": [
    "for i in range(200):\n",
    "    g.train_discriminator()\n",
    "g.estimate_performance(5)"
   ]
  },
  {
   "cell_type": "code",
   "execution_count": null,
   "metadata": {},
   "outputs": [],
   "source": [
    "g.accuracy_on_generated_history[-1]"
   ]
  },
  {
   "cell_type": "code",
   "execution_count": null,
   "metadata": {},
   "outputs": [],
   "source": [
    "g.accuracy_on_genuine_history[-1]"
   ]
  },
  {
   "cell_type": "code",
   "execution_count": null,
   "metadata": {},
   "outputs": [],
   "source": [
    "d_next = True\n",
    "for i in range(400):\n",
    "    if d_next:\n",
    "        g.train_discriminator()\n",
    "    else:\n",
    "        g.train_generator()\n",
    "    g.estimate_performance(5)\n",
    "    if (g.cross_entropy_history[-1] > 0.001):\n",
    "        d_next = True\n",
    "    elif (g.cross_entropy_history[-1] < 0.0005):\n",
    "        d_next = False"
   ]
  },
  {
   "cell_type": "code",
   "execution_count": null,
   "metadata": {},
   "outputs": [],
   "source": [
    "for i in range(10):\n",
    "    IPython.display.clear_output()\n",
    "    print(\"Outer loop: {}\".format(i))\n",
    "    print(\"Cross entropy history: {}\".format(g.cross_entropy_history[-3:]))\n",
    "    print(\"Accuracy on genuine history: {}\".format(g.accuracy_on_genuine_history[-3:]))\n",
    "    print(\"Accuracy on generated history: {}\".format(g.accuracy_on_generated_history[-3:]))\n",
    "    for j in range(10):\n",
    "        for k in range(20):\n",
    "            g.train_discriminator()\n",
    "        g.train_generator()\n",
    "    g.estimate_performance(10)"
   ]
  },
  {
   "cell_type": "code",
   "execution_count": null,
   "metadata": {},
   "outputs": [],
   "source": [
    "g.total_training_time"
   ]
  },
  {
   "cell_type": "code",
   "execution_count": null,
   "metadata": {},
   "outputs": [],
   "source": [
    "g.total_evaluating_time"
   ]
  },
  {
   "cell_type": "code",
   "execution_count": null,
   "metadata": {},
   "outputs": [],
   "source": [
    "plt.plot(g.cross_entropy_history)\n",
    "plt.show()"
   ]
  },
  {
   "cell_type": "code",
   "execution_count": null,
   "metadata": {},
   "outputs": [],
   "source": [
    "for i in range(20):\n",
    "    print(\"Training i = {}\".format(i))\n",
    "    for i in range(100):\n",
    "        g.train_discriminator()\n",
    "        g.train_generator()\n",
    "    g.evaluate_performance()\n",
    "    IPython.display.clear_output()\n",
    "    im = g.generateSingleExample()\n",
    "    plt.imshow(im[:,:,0], interpolation='None', cmap = 'gray')\n",
    "    plt.show()\n",
    "    "
   ]
  },
  {
   "cell_type": "code",
   "execution_count": null,
   "metadata": {},
   "outputs": [],
   "source": [
    "g.accuracy_on_genuine_history"
   ]
  },
  {
   "cell_type": "code",
   "execution_count": null,
   "metadata": {},
   "outputs": [],
   "source": [
    "g.accuracy_on_generated_history"
   ]
  },
  {
   "cell_type": "code",
   "execution_count": null,
   "metadata": {},
   "outputs": [],
   "source": [
    "im = g.generateSingleExample()\n",
    "plt.imshow(im[:,:,0], interpolation='None', cmap = 'gray')\n",
    "plt.show()"
   ]
  },
  {
   "cell_type": "code",
   "execution_count": null,
   "metadata": {},
   "outputs": [],
   "source": [
    "im = g.generateSingleExample()\n",
    "im[15,:,0]"
   ]
  },
  {
   "cell_type": "code",
   "execution_count": null,
   "metadata": {},
   "outputs": [],
   "source": [
    "g.gnet_fc_layer1.b.eval()"
   ]
  },
  {
   "cell_type": "code",
   "execution_count": null,
   "metadata": {},
   "outputs": [],
   "source": []
  }
 ],
 "metadata": {
  "language_info": {
   "name": "python",
   "pygments_lexer": "ipython3"
  }
 },
 "nbformat": 4,
 "nbformat_minor": 1
}
